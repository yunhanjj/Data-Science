{
 "cells": [
  {
   "cell_type": "code",
   "execution_count": 418,
   "metadata": {},
   "outputs": [],
   "source": [
    "from bs4 import BeautifulSoup\n",
    "import requests\n",
    "import pandas as pd\n",
    "from itertools import chain"
   ]
  },
  {
   "cell_type": "markdown",
   "metadata": {},
   "source": [
    "### Cumulative Grosses Broadway Table"
   ]
  },
  {
   "cell_type": "code",
   "execution_count": 186,
   "metadata": {},
   "outputs": [],
   "source": [
    "# getting into cumulative grosses for broadway shows\n",
    "URL = \"https://www.broadwayworld.com/grossescumulative.cfm\"\n",
    "r = requests.get(URL) # send the GET request to the URL"
   ]
  },
  {
   "cell_type": "code",
   "execution_count": 187,
   "metadata": {},
   "outputs": [],
   "source": [
    "soup = BeautifulSoup(r.content, 'html5lib')\n",
    "table = soup.find('table')\n",
    "table_body = table.find('tbody')"
   ]
  },
  {
   "cell_type": "code",
   "execution_count": 189,
   "metadata": {},
   "outputs": [],
   "source": [
    "rows = table_body.find_all('tr') # get all rows from the table\n",
    "\n",
    "shows_no_title = []\n",
    "for row in rows:\n",
    "    # get all data containers in the row\n",
    "    cols = row.find_all('td')\n",
    "\n",
    "    # grab all the text for each td in tr\n",
    "    cols = [ele.span.text.strip() for ele in cols]\n",
    "    \n",
    "    # add each row's data to the list\n",
    "    shows_no_title.append([ele for ele in cols if ele])"
   ]
  },
  {
   "cell_type": "code",
   "execution_count": 83,
   "metadata": {},
   "outputs": [],
   "source": [
    "shows_no_title_colNames = shows_no_title[0]\n",
    "shows_no_title_colNames[0] = 'Theatre'\n",
    "shows_no_title = shows_no_title[1:]"
   ]
  },
  {
   "cell_type": "code",
   "execution_count": 84,
   "metadata": {},
   "outputs": [
    {
     "data": {
      "text/plain": [
       "['Theatre',\n",
       " 'Gross',\n",
       " 'Avg. Tix',\n",
       " 'SeatsSold',\n",
       " 'Prev.',\n",
       " 'RegularShows',\n",
       " 'TotalPerf.']"
      ]
     },
     "execution_count": 84,
     "metadata": {},
     "output_type": "execute_result"
    }
   ],
   "source": [
    "shows_no_title_colNames"
   ]
  },
  {
   "cell_type": "code",
   "execution_count": 85,
   "metadata": {},
   "outputs": [],
   "source": [
    "shows_title = []\n",
    "for row in table_body.find_all('tr'):\n",
    "    # get the show titles from <a> tag in each row\n",
    "    shows_title.append(row.a.text)"
   ]
  },
  {
   "cell_type": "code",
   "execution_count": 420,
   "metadata": {},
   "outputs": [
    {
     "data": {
      "text/plain": [
       "[\"'NIGHT MOTHER\", '110 IN THE SHADE', '13', '1776', '1984']"
      ]
     },
     "execution_count": 420,
     "metadata": {},
     "output_type": "execute_result"
    }
   ],
   "source": [
    "shows_title[:5]"
   ]
  },
  {
   "cell_type": "code",
   "execution_count": 87,
   "metadata": {},
   "outputs": [],
   "source": [
    "shows_title_colName = 'Show Title'\n",
    "shows_title = shows_title[1:]"
   ]
  },
  {
   "cell_type": "code",
   "execution_count": 100,
   "metadata": {},
   "outputs": [],
   "source": [
    "show_info = pd.DataFrame(shows_no_title)"
   ]
  },
  {
   "cell_type": "code",
   "execution_count": 101,
   "metadata": {},
   "outputs": [
    {
     "data": {
      "text/html": [
       "<div>\n",
       "<style scoped>\n",
       "    .dataframe tbody tr th:only-of-type {\n",
       "        vertical-align: middle;\n",
       "    }\n",
       "\n",
       "    .dataframe tbody tr th {\n",
       "        vertical-align: top;\n",
       "    }\n",
       "\n",
       "    .dataframe thead th {\n",
       "        text-align: right;\n",
       "    }\n",
       "</style>\n",
       "<table border=\"1\" class=\"dataframe\">\n",
       "  <thead>\n",
       "    <tr style=\"text-align: right;\">\n",
       "      <th></th>\n",
       "      <th>0</th>\n",
       "      <th>1</th>\n",
       "      <th>2</th>\n",
       "      <th>3</th>\n",
       "      <th>4</th>\n",
       "      <th>5</th>\n",
       "      <th>6</th>\n",
       "    </tr>\n",
       "  </thead>\n",
       "  <tbody>\n",
       "    <tr>\n",
       "      <th>0</th>\n",
       "      <td>ROYALE</td>\n",
       "      <td>$2,011,480</td>\n",
       "      <td>$52</td>\n",
       "      <td>38,478</td>\n",
       "      <td>26</td>\n",
       "      <td>65</td>\n",
       "      <td>91</td>\n",
       "    </tr>\n",
       "    <tr>\n",
       "      <th>1</th>\n",
       "      <td>STUDIO 54</td>\n",
       "      <td>$5,169,314</td>\n",
       "      <td>$51</td>\n",
       "      <td>102,030</td>\n",
       "      <td>27</td>\n",
       "      <td>94</td>\n",
       "      <td>121</td>\n",
       "    </tr>\n",
       "    <tr>\n",
       "      <th>2</th>\n",
       "      <td>JACOBS</td>\n",
       "      <td>$4,436,369</td>\n",
       "      <td>$59</td>\n",
       "      <td>72,907</td>\n",
       "      <td>22</td>\n",
       "      <td>105</td>\n",
       "      <td>127</td>\n",
       "    </tr>\n",
       "    <tr>\n",
       "      <th>3</th>\n",
       "      <td>GERSHWIN</td>\n",
       "      <td>$13,667,789</td>\n",
       "      <td>$40</td>\n",
       "      <td>355,683</td>\n",
       "      <td>34</td>\n",
       "      <td>333</td>\n",
       "      <td>367</td>\n",
       "    </tr>\n",
       "    <tr>\n",
       "      <th>4</th>\n",
       "      <td>HUDSON</td>\n",
       "      <td>$6,859,821</td>\n",
       "      <td>$61</td>\n",
       "      <td>112,232</td>\n",
       "      <td>38</td>\n",
       "      <td>125</td>\n",
       "      <td>163</td>\n",
       "    </tr>\n",
       "  </tbody>\n",
       "</table>\n",
       "</div>"
      ],
      "text/plain": [
       "           0            1    2        3   4    5    6\n",
       "0     ROYALE   $2,011,480  $52   38,478  26   65   91\n",
       "1  STUDIO 54   $5,169,314  $51  102,030  27   94  121\n",
       "2     JACOBS   $4,436,369  $59   72,907  22  105  127\n",
       "3   GERSHWIN  $13,667,789  $40  355,683  34  333  367\n",
       "4     HUDSON   $6,859,821  $61  112,232  38  125  163"
      ]
     },
     "execution_count": 101,
     "metadata": {},
     "output_type": "execute_result"
    }
   ],
   "source": [
    "show_info.head()"
   ]
  },
  {
   "cell_type": "code",
   "execution_count": 102,
   "metadata": {},
   "outputs": [],
   "source": [
    "# add the titles to the last column\n",
    "show_info.insert(0, shows_title_colName, shows_title)"
   ]
  },
  {
   "cell_type": "code",
   "execution_count": 103,
   "metadata": {},
   "outputs": [
    {
     "data": {
      "text/html": [
       "<div>\n",
       "<style scoped>\n",
       "    .dataframe tbody tr th:only-of-type {\n",
       "        vertical-align: middle;\n",
       "    }\n",
       "\n",
       "    .dataframe tbody tr th {\n",
       "        vertical-align: top;\n",
       "    }\n",
       "\n",
       "    .dataframe thead th {\n",
       "        text-align: right;\n",
       "    }\n",
       "</style>\n",
       "<table border=\"1\" class=\"dataframe\">\n",
       "  <thead>\n",
       "    <tr style=\"text-align: right;\">\n",
       "      <th></th>\n",
       "      <th>Show Title</th>\n",
       "      <th>0</th>\n",
       "      <th>1</th>\n",
       "      <th>2</th>\n",
       "      <th>3</th>\n",
       "      <th>4</th>\n",
       "      <th>5</th>\n",
       "      <th>6</th>\n",
       "    </tr>\n",
       "  </thead>\n",
       "  <tbody>\n",
       "    <tr>\n",
       "      <th>0</th>\n",
       "      <td>'NIGHT MOTHER</td>\n",
       "      <td>ROYALE</td>\n",
       "      <td>$2,011,480</td>\n",
       "      <td>$52</td>\n",
       "      <td>38,478</td>\n",
       "      <td>26</td>\n",
       "      <td>65</td>\n",
       "      <td>91</td>\n",
       "    </tr>\n",
       "    <tr>\n",
       "      <th>1</th>\n",
       "      <td>110 IN THE SHADE</td>\n",
       "      <td>STUDIO 54</td>\n",
       "      <td>$5,169,314</td>\n",
       "      <td>$51</td>\n",
       "      <td>102,030</td>\n",
       "      <td>27</td>\n",
       "      <td>94</td>\n",
       "      <td>121</td>\n",
       "    </tr>\n",
       "    <tr>\n",
       "      <th>2</th>\n",
       "      <td>13</td>\n",
       "      <td>JACOBS</td>\n",
       "      <td>$4,436,369</td>\n",
       "      <td>$59</td>\n",
       "      <td>72,907</td>\n",
       "      <td>22</td>\n",
       "      <td>105</td>\n",
       "      <td>127</td>\n",
       "    </tr>\n",
       "    <tr>\n",
       "      <th>3</th>\n",
       "      <td>1776</td>\n",
       "      <td>GERSHWIN</td>\n",
       "      <td>$13,667,789</td>\n",
       "      <td>$40</td>\n",
       "      <td>355,683</td>\n",
       "      <td>34</td>\n",
       "      <td>333</td>\n",
       "      <td>367</td>\n",
       "    </tr>\n",
       "    <tr>\n",
       "      <th>4</th>\n",
       "      <td>1984</td>\n",
       "      <td>HUDSON</td>\n",
       "      <td>$6,859,821</td>\n",
       "      <td>$61</td>\n",
       "      <td>112,232</td>\n",
       "      <td>38</td>\n",
       "      <td>125</td>\n",
       "      <td>163</td>\n",
       "    </tr>\n",
       "  </tbody>\n",
       "</table>\n",
       "</div>"
      ],
      "text/plain": [
       "         Show Title          0            1    2        3   4    5    6\n",
       "0     'NIGHT MOTHER     ROYALE   $2,011,480  $52   38,478  26   65   91\n",
       "1  110 IN THE SHADE  STUDIO 54   $5,169,314  $51  102,030  27   94  121\n",
       "2                13     JACOBS   $4,436,369  $59   72,907  22  105  127\n",
       "3              1776   GERSHWIN  $13,667,789  $40  355,683  34  333  367\n",
       "4              1984     HUDSON   $6,859,821  $61  112,232  38  125  163"
      ]
     },
     "execution_count": 103,
     "metadata": {},
     "output_type": "execute_result"
    }
   ],
   "source": [
    "show_info.head()"
   ]
  },
  {
   "cell_type": "code",
   "execution_count": 104,
   "metadata": {},
   "outputs": [],
   "source": [
    "show_info.columns = [shows_title_colName] + shows_no_title_colNames"
   ]
  },
  {
   "cell_type": "code",
   "execution_count": 105,
   "metadata": {},
   "outputs": [
    {
     "data": {
      "text/html": [
       "<div>\n",
       "<style scoped>\n",
       "    .dataframe tbody tr th:only-of-type {\n",
       "        vertical-align: middle;\n",
       "    }\n",
       "\n",
       "    .dataframe tbody tr th {\n",
       "        vertical-align: top;\n",
       "    }\n",
       "\n",
       "    .dataframe thead th {\n",
       "        text-align: right;\n",
       "    }\n",
       "</style>\n",
       "<table border=\"1\" class=\"dataframe\">\n",
       "  <thead>\n",
       "    <tr style=\"text-align: right;\">\n",
       "      <th></th>\n",
       "      <th>Show Title</th>\n",
       "      <th>Theatre</th>\n",
       "      <th>Gross</th>\n",
       "      <th>Avg. Tix</th>\n",
       "      <th>SeatsSold</th>\n",
       "      <th>Prev.</th>\n",
       "      <th>RegularShows</th>\n",
       "      <th>TotalPerf.</th>\n",
       "    </tr>\n",
       "  </thead>\n",
       "  <tbody>\n",
       "    <tr>\n",
       "      <th>0</th>\n",
       "      <td>'NIGHT MOTHER</td>\n",
       "      <td>ROYALE</td>\n",
       "      <td>$2,011,480</td>\n",
       "      <td>$52</td>\n",
       "      <td>38,478</td>\n",
       "      <td>26</td>\n",
       "      <td>65</td>\n",
       "      <td>91</td>\n",
       "    </tr>\n",
       "    <tr>\n",
       "      <th>1</th>\n",
       "      <td>110 IN THE SHADE</td>\n",
       "      <td>STUDIO 54</td>\n",
       "      <td>$5,169,314</td>\n",
       "      <td>$51</td>\n",
       "      <td>102,030</td>\n",
       "      <td>27</td>\n",
       "      <td>94</td>\n",
       "      <td>121</td>\n",
       "    </tr>\n",
       "    <tr>\n",
       "      <th>2</th>\n",
       "      <td>13</td>\n",
       "      <td>JACOBS</td>\n",
       "      <td>$4,436,369</td>\n",
       "      <td>$59</td>\n",
       "      <td>72,907</td>\n",
       "      <td>22</td>\n",
       "      <td>105</td>\n",
       "      <td>127</td>\n",
       "    </tr>\n",
       "    <tr>\n",
       "      <th>3</th>\n",
       "      <td>1776</td>\n",
       "      <td>GERSHWIN</td>\n",
       "      <td>$13,667,789</td>\n",
       "      <td>$40</td>\n",
       "      <td>355,683</td>\n",
       "      <td>34</td>\n",
       "      <td>333</td>\n",
       "      <td>367</td>\n",
       "    </tr>\n",
       "    <tr>\n",
       "      <th>4</th>\n",
       "      <td>1984</td>\n",
       "      <td>HUDSON</td>\n",
       "      <td>$6,859,821</td>\n",
       "      <td>$61</td>\n",
       "      <td>112,232</td>\n",
       "      <td>38</td>\n",
       "      <td>125</td>\n",
       "      <td>163</td>\n",
       "    </tr>\n",
       "  </tbody>\n",
       "</table>\n",
       "</div>"
      ],
      "text/plain": [
       "         Show Title    Theatre        Gross Avg. Tix SeatsSold Prev.  \\\n",
       "0     'NIGHT MOTHER     ROYALE   $2,011,480      $52    38,478    26   \n",
       "1  110 IN THE SHADE  STUDIO 54   $5,169,314      $51   102,030    27   \n",
       "2                13     JACOBS   $4,436,369      $59    72,907    22   \n",
       "3              1776   GERSHWIN  $13,667,789      $40   355,683    34   \n",
       "4              1984     HUDSON   $6,859,821      $61   112,232    38   \n",
       "\n",
       "  RegularShows TotalPerf.  \n",
       "0           65         91  \n",
       "1           94        121  \n",
       "2          105        127  \n",
       "3          333        367  \n",
       "4          125        163  "
      ]
     },
     "execution_count": 105,
     "metadata": {},
     "output_type": "execute_result"
    }
   ],
   "source": [
    "show_info.head()"
   ]
  },
  {
   "cell_type": "code",
   "execution_count": 106,
   "metadata": {},
   "outputs": [],
   "source": [
    "for col in ['Gross', 'Avg. Tix', 'SeatsSold', 'Prev.', 'RegularShows', 'TotalPerf.']:\n",
    "    show_info[col] = show_info[col].str.replace(',', '').str.replace('$', '').astype(int)"
   ]
  },
  {
   "cell_type": "code",
   "execution_count": 107,
   "metadata": {},
   "outputs": [
    {
     "data": {
      "text/html": [
       "<div>\n",
       "<style scoped>\n",
       "    .dataframe tbody tr th:only-of-type {\n",
       "        vertical-align: middle;\n",
       "    }\n",
       "\n",
       "    .dataframe tbody tr th {\n",
       "        vertical-align: top;\n",
       "    }\n",
       "\n",
       "    .dataframe thead th {\n",
       "        text-align: right;\n",
       "    }\n",
       "</style>\n",
       "<table border=\"1\" class=\"dataframe\">\n",
       "  <thead>\n",
       "    <tr style=\"text-align: right;\">\n",
       "      <th></th>\n",
       "      <th>Show Title</th>\n",
       "      <th>Theatre</th>\n",
       "      <th>Gross</th>\n",
       "      <th>Avg. Tix</th>\n",
       "      <th>SeatsSold</th>\n",
       "      <th>Prev.</th>\n",
       "      <th>RegularShows</th>\n",
       "      <th>TotalPerf.</th>\n",
       "    </tr>\n",
       "  </thead>\n",
       "  <tbody>\n",
       "    <tr>\n",
       "      <th>0</th>\n",
       "      <td>'NIGHT MOTHER</td>\n",
       "      <td>ROYALE</td>\n",
       "      <td>2011480</td>\n",
       "      <td>52</td>\n",
       "      <td>38478</td>\n",
       "      <td>26</td>\n",
       "      <td>65</td>\n",
       "      <td>91</td>\n",
       "    </tr>\n",
       "    <tr>\n",
       "      <th>1</th>\n",
       "      <td>110 IN THE SHADE</td>\n",
       "      <td>STUDIO 54</td>\n",
       "      <td>5169314</td>\n",
       "      <td>51</td>\n",
       "      <td>102030</td>\n",
       "      <td>27</td>\n",
       "      <td>94</td>\n",
       "      <td>121</td>\n",
       "    </tr>\n",
       "    <tr>\n",
       "      <th>2</th>\n",
       "      <td>13</td>\n",
       "      <td>JACOBS</td>\n",
       "      <td>4436369</td>\n",
       "      <td>59</td>\n",
       "      <td>72907</td>\n",
       "      <td>22</td>\n",
       "      <td>105</td>\n",
       "      <td>127</td>\n",
       "    </tr>\n",
       "    <tr>\n",
       "      <th>3</th>\n",
       "      <td>1776</td>\n",
       "      <td>GERSHWIN</td>\n",
       "      <td>13667789</td>\n",
       "      <td>40</td>\n",
       "      <td>355683</td>\n",
       "      <td>34</td>\n",
       "      <td>333</td>\n",
       "      <td>367</td>\n",
       "    </tr>\n",
       "    <tr>\n",
       "      <th>4</th>\n",
       "      <td>1984</td>\n",
       "      <td>HUDSON</td>\n",
       "      <td>6859821</td>\n",
       "      <td>61</td>\n",
       "      <td>112232</td>\n",
       "      <td>38</td>\n",
       "      <td>125</td>\n",
       "      <td>163</td>\n",
       "    </tr>\n",
       "  </tbody>\n",
       "</table>\n",
       "</div>"
      ],
      "text/plain": [
       "         Show Title    Theatre     Gross  Avg. Tix  SeatsSold  Prev.  \\\n",
       "0     'NIGHT MOTHER     ROYALE   2011480        52      38478     26   \n",
       "1  110 IN THE SHADE  STUDIO 54   5169314        51     102030     27   \n",
       "2                13     JACOBS   4436369        59      72907     22   \n",
       "3              1776   GERSHWIN  13667789        40     355683     34   \n",
       "4              1984     HUDSON   6859821        61     112232     38   \n",
       "\n",
       "   RegularShows  TotalPerf.  \n",
       "0            65          91  \n",
       "1            94         121  \n",
       "2           105         127  \n",
       "3           333         367  \n",
       "4           125         163  "
      ]
     },
     "execution_count": 107,
     "metadata": {},
     "output_type": "execute_result"
    }
   ],
   "source": [
    "show_info.head()"
   ]
  },
  {
   "cell_type": "code",
   "execution_count": 108,
   "metadata": {},
   "outputs": [
    {
     "data": {
      "text/plain": [
       "Show Title      object\n",
       "Theatre         object\n",
       "Gross            int64\n",
       "Avg. Tix         int64\n",
       "SeatsSold        int64\n",
       "Prev.            int64\n",
       "RegularShows     int64\n",
       "TotalPerf.       int64\n",
       "dtype: object"
      ]
     },
     "execution_count": 108,
     "metadata": {},
     "output_type": "execute_result"
    }
   ],
   "source": [
    "show_info.dtypes"
   ]
  },
  {
   "cell_type": "code",
   "execution_count": 110,
   "metadata": {},
   "outputs": [],
   "source": [
    "# # preliminary processing saved\n",
    "# show_info.to_csv('gross_broadway_earnings.csv', index=False)"
   ]
  },
  {
   "cell_type": "code",
   "execution_count": 411,
   "metadata": {},
   "outputs": [],
   "source": [
    "for col in ['Prev.', 'RegularShows', 'TotalPerf.']:\n",
    "    show_info[col] = show_info[col].astype(int)  "
   ]
  },
  {
   "cell_type": "code",
   "execution_count": 112,
   "metadata": {},
   "outputs": [],
   "source": [
    "show_info = pd.read_csv('gross_broadway_earnings.csv')"
   ]
  },
  {
   "cell_type": "code",
   "execution_count": 413,
   "metadata": {},
   "outputs": [
    {
     "data": {
      "text/plain": [
       "(1270, 8)"
      ]
     },
     "execution_count": 413,
     "metadata": {},
     "output_type": "execute_result"
    }
   ],
   "source": [
    "show_info.shape"
   ]
  },
  {
   "cell_type": "code",
   "execution_count": 414,
   "metadata": {},
   "outputs": [
    {
     "data": {
      "text/html": [
       "<div>\n",
       "<style scoped>\n",
       "    .dataframe tbody tr th:only-of-type {\n",
       "        vertical-align: middle;\n",
       "    }\n",
       "\n",
       "    .dataframe tbody tr th {\n",
       "        vertical-align: top;\n",
       "    }\n",
       "\n",
       "    .dataframe thead th {\n",
       "        text-align: right;\n",
       "    }\n",
       "</style>\n",
       "<table border=\"1\" class=\"dataframe\">\n",
       "  <thead>\n",
       "    <tr style=\"text-align: right;\">\n",
       "      <th></th>\n",
       "      <th>Show Title</th>\n",
       "      <th>Theatre</th>\n",
       "      <th>Gross</th>\n",
       "      <th>Avg. Tix</th>\n",
       "      <th>SeatsSold</th>\n",
       "      <th>Prev.</th>\n",
       "      <th>RegularShows</th>\n",
       "      <th>TotalPerf.</th>\n",
       "    </tr>\n",
       "  </thead>\n",
       "  <tbody>\n",
       "    <tr>\n",
       "      <th>0</th>\n",
       "      <td>'NIGHT MOTHER</td>\n",
       "      <td>ROYALE</td>\n",
       "      <td>2011480</td>\n",
       "      <td>52</td>\n",
       "      <td>38478</td>\n",
       "      <td>26</td>\n",
       "      <td>65</td>\n",
       "      <td>91</td>\n",
       "    </tr>\n",
       "    <tr>\n",
       "      <th>1</th>\n",
       "      <td>110 IN THE SHADE</td>\n",
       "      <td>STUDIO 54</td>\n",
       "      <td>5169314</td>\n",
       "      <td>51</td>\n",
       "      <td>102030</td>\n",
       "      <td>27</td>\n",
       "      <td>94</td>\n",
       "      <td>121</td>\n",
       "    </tr>\n",
       "    <tr>\n",
       "      <th>2</th>\n",
       "      <td>13</td>\n",
       "      <td>JACOBS</td>\n",
       "      <td>4436369</td>\n",
       "      <td>59</td>\n",
       "      <td>72907</td>\n",
       "      <td>22</td>\n",
       "      <td>105</td>\n",
       "      <td>127</td>\n",
       "    </tr>\n",
       "    <tr>\n",
       "      <th>3</th>\n",
       "      <td>1776</td>\n",
       "      <td>GERSHWIN</td>\n",
       "      <td>13667789</td>\n",
       "      <td>40</td>\n",
       "      <td>355683</td>\n",
       "      <td>34</td>\n",
       "      <td>333</td>\n",
       "      <td>367</td>\n",
       "    </tr>\n",
       "    <tr>\n",
       "      <th>4</th>\n",
       "      <td>1984</td>\n",
       "      <td>HUDSON</td>\n",
       "      <td>6859821</td>\n",
       "      <td>61</td>\n",
       "      <td>112232</td>\n",
       "      <td>38</td>\n",
       "      <td>125</td>\n",
       "      <td>163</td>\n",
       "    </tr>\n",
       "  </tbody>\n",
       "</table>\n",
       "</div>"
      ],
      "text/plain": [
       "         Show Title    Theatre     Gross  Avg. Tix  SeatsSold  Prev.  \\\n",
       "0     'NIGHT MOTHER     ROYALE   2011480        52      38478     26   \n",
       "1  110 IN THE SHADE  STUDIO 54   5169314        51     102030     27   \n",
       "2                13     JACOBS   4436369        59      72907     22   \n",
       "3              1776   GERSHWIN  13667789        40     355683     34   \n",
       "4              1984     HUDSON   6859821        61     112232     38   \n",
       "\n",
       "   RegularShows  TotalPerf.  \n",
       "0            65          91  \n",
       "1            94         121  \n",
       "2           105         127  \n",
       "3           333         367  \n",
       "4           125         163  "
      ]
     },
     "execution_count": 414,
     "metadata": {},
     "output_type": "execute_result"
    }
   ],
   "source": [
    "show_info.head()"
   ]
  },
  {
   "cell_type": "markdown",
   "metadata": {},
   "source": [
    "### Grosses Table"
   ]
  },
  {
   "cell_type": "code",
   "execution_count": 502,
   "metadata": {},
   "outputs": [],
   "source": [
    "# getting into cumulative grosses for broadway shows\n",
    "URL = \"https://www.broadwayworld.com/grosses.cfm\"\n",
    "r = requests.get(URL) # send the GET request to the URL\n",
    "\n",
    "soup = BeautifulSoup(r.content, 'html.parser')\n",
    "# results = soup.find(id=\"content\")"
   ]
  },
  {
   "cell_type": "code",
   "execution_count": 503,
   "metadata": {},
   "outputs": [],
   "source": [
    "table_body = soup.find(\"div\",attrs={\"class\":\"table-body\",\"id\":\"grosses-container\"})"
   ]
  },
  {
   "cell_type": "code",
   "execution_count": 504,
   "metadata": {},
   "outputs": [],
   "source": [
    "def process_row(row):\n",
    "    row_data = []\n",
    "    \n",
    "    for ele in row:\n",
    "        ele_string = str(ele)\n",
    "        if ele.string:\n",
    "            entry = ele.string\n",
    "        else:\n",
    "            entry = ele.get_text(separator=\";\")\n",
    "\n",
    "        if \"cell negative\" in ele_string:\n",
    "            entry = \"-\" + entry\n",
    "        if entry == '\\n':\n",
    "            continue\n",
    "\n",
    "        row_data.append(entry)\n",
    "    \n",
    "    row_data = [s.split('\\n') for s in row_data]\n",
    "    row_data = list(chain.from_iterable(row_data))\n",
    "    row_data = [s.split(';') for s in row_data]\n",
    "    row_data = list(chain.from_iterable(row_data))\n",
    "    row_data = [s for s in row_data if s != '']\n",
    "    \n",
    "    if len(row_data) == 13:\n",
    "        row_data.insert(10, 0)\n",
    "    \n",
    "    return row_data"
   ]
  },
  {
   "cell_type": "code",
   "execution_count": 505,
   "metadata": {},
   "outputs": [],
   "source": [
    "rows = table_body.find_all(\"div\", attrs={\"class\":\"row\"}) # get all rows from the table\n",
    "gross_table = []\n",
    "\n",
    "for row in rows:\n",
    "    row_data = process_row(row)\n",
    "    gross_table.append(row_data)"
   ]
  },
  {
   "cell_type": "code",
   "execution_count": 506,
   "metadata": {},
   "outputs": [
    {
     "data": {
      "text/plain": [
       "28"
      ]
     },
     "execution_count": 506,
     "metadata": {},
     "output_type": "execute_result"
    }
   ],
   "source": [
    "len(gross_table)"
   ]
  },
  {
   "cell_type": "code",
   "execution_count": 507,
   "metadata": {},
   "outputs": [],
   "source": [
    "table_header = soup.find(\"div\",attrs={\"class\":\"table-header\"})\n",
    "\n",
    "table_header_lst = ['Show', 'Theater', 'Gross', 'Gross (Prev week)', 'Gross Diff. vs. Prev Week', \n",
    "                    'Avg. Ticket', 'Top Ticket', 'Attendance', 'Capacity', 'Perf.', 'Previews', \n",
    "                    'Capacity % (This week)', 'Capacity % (Last week)','Diff. %']"
   ]
  },
  {
   "cell_type": "code",
   "execution_count": 508,
   "metadata": {},
   "outputs": [],
   "source": [
    "recent_gross_df = pd.DataFrame(gross_table)\n"
   ]
  },
  {
   "cell_type": "code",
   "execution_count": 509,
   "metadata": {},
   "outputs": [
    {
     "data": {
      "text/plain": [
       "(28, 14)"
      ]
     },
     "execution_count": 509,
     "metadata": {},
     "output_type": "execute_result"
    }
   ],
   "source": [
    "recent_gross_df.shape"
   ]
  },
  {
   "cell_type": "code",
   "execution_count": 510,
   "metadata": {},
   "outputs": [
    {
     "data": {
      "text/html": [
       "<div>\n",
       "<style scoped>\n",
       "    .dataframe tbody tr th:only-of-type {\n",
       "        vertical-align: middle;\n",
       "    }\n",
       "\n",
       "    .dataframe tbody tr th {\n",
       "        vertical-align: top;\n",
       "    }\n",
       "\n",
       "    .dataframe thead th {\n",
       "        text-align: right;\n",
       "    }\n",
       "</style>\n",
       "<table border=\"1\" class=\"dataframe\">\n",
       "  <thead>\n",
       "    <tr style=\"text-align: right;\">\n",
       "      <th></th>\n",
       "      <th>0</th>\n",
       "      <th>1</th>\n",
       "      <th>2</th>\n",
       "      <th>3</th>\n",
       "      <th>4</th>\n",
       "      <th>5</th>\n",
       "      <th>6</th>\n",
       "      <th>7</th>\n",
       "      <th>8</th>\n",
       "      <th>9</th>\n",
       "      <th>10</th>\n",
       "      <th>11</th>\n",
       "      <th>12</th>\n",
       "      <th>13</th>\n",
       "    </tr>\n",
       "  </thead>\n",
       "  <tbody>\n",
       "    <tr>\n",
       "      <th>0</th>\n",
       "      <td>A STRANGE LOOP</td>\n",
       "      <td>LYCEUM</td>\n",
       "      <td>$780,492</td>\n",
       "      <td>$854,407</td>\n",
       "      <td>-$73,915</td>\n",
       "      <td>$119.65</td>\n",
       "      <td>$373.00</td>\n",
       "      <td>6,523</td>\n",
       "      <td>7,296</td>\n",
       "      <td>8</td>\n",
       "      <td>0</td>\n",
       "      <td>89.41%</td>\n",
       "      <td>99.14%</td>\n",
       "      <td>-9.73%</td>\n",
       "    </tr>\n",
       "    <tr>\n",
       "      <th>1</th>\n",
       "      <td>ALADDIN</td>\n",
       "      <td>NEW AMSTERDAM</td>\n",
       "      <td>$1,398,903</td>\n",
       "      <td>$1,379,129</td>\n",
       "      <td>$19,774</td>\n",
       "      <td>$104.32</td>\n",
       "      <td>$227.50</td>\n",
       "      <td>13,410</td>\n",
       "      <td>13,816</td>\n",
       "      <td>8</td>\n",
       "      <td>0</td>\n",
       "      <td>97.06%</td>\n",
       "      <td>97.97%</td>\n",
       "      <td>-0.91%</td>\n",
       "    </tr>\n",
       "    <tr>\n",
       "      <th>2</th>\n",
       "      <td>AMERICAN BUFFALO</td>\n",
       "      <td>CIRCLE IN THE SQUARE</td>\n",
       "      <td>$556,976</td>\n",
       "      <td>$424,384</td>\n",
       "      <td>$132,592</td>\n",
       "      <td>$106.05</td>\n",
       "      <td>$299.50</td>\n",
       "      <td>5,252</td>\n",
       "      <td>6,008</td>\n",
       "      <td>8</td>\n",
       "      <td>0</td>\n",
       "      <td>87.42%</td>\n",
       "      <td>78.56%</td>\n",
       "      <td>8.86%</td>\n",
       "    </tr>\n",
       "    <tr>\n",
       "      <th>3</th>\n",
       "      <td>BEETLEJUICE</td>\n",
       "      <td>MARQUIS</td>\n",
       "      <td>$1,056,462</td>\n",
       "      <td>$1,074,541</td>\n",
       "      <td>-$18,078</td>\n",
       "      <td>$116.67</td>\n",
       "      <td>$249.00</td>\n",
       "      <td>9,055</td>\n",
       "      <td>12,816</td>\n",
       "      <td>8</td>\n",
       "      <td>0</td>\n",
       "      <td>70.65%</td>\n",
       "      <td>73.25%</td>\n",
       "      <td>-2.60%</td>\n",
       "    </tr>\n",
       "    <tr>\n",
       "      <th>4</th>\n",
       "      <td>CHICAGO</td>\n",
       "      <td>AMBASSADOR</td>\n",
       "      <td>$450,294</td>\n",
       "      <td>$536,434</td>\n",
       "      <td>-$86,140</td>\n",
       "      <td>$88.10</td>\n",
       "      <td>$197.00</td>\n",
       "      <td>5,111</td>\n",
       "      <td>8,640</td>\n",
       "      <td>8</td>\n",
       "      <td>0</td>\n",
       "      <td>59.16%</td>\n",
       "      <td>70.15%</td>\n",
       "      <td>-10.99%</td>\n",
       "    </tr>\n",
       "  </tbody>\n",
       "</table>\n",
       "</div>"
      ],
      "text/plain": [
       "                 0                     1           2           3         4   \\\n",
       "0    A STRANGE LOOP                LYCEUM    $780,492    $854,407  -$73,915   \n",
       "1           ALADDIN         NEW AMSTERDAM  $1,398,903  $1,379,129   $19,774   \n",
       "2  AMERICAN BUFFALO  CIRCLE IN THE SQUARE    $556,976    $424,384  $132,592   \n",
       "3       BEETLEJUICE               MARQUIS  $1,056,462  $1,074,541  -$18,078   \n",
       "4           CHICAGO            AMBASSADOR    $450,294    $536,434  -$86,140   \n",
       "\n",
       "        5        6       7       8  9  10      11      12       13  \n",
       "0  $119.65  $373.00   6,523   7,296  8  0  89.41%  99.14%   -9.73%  \n",
       "1  $104.32  $227.50  13,410  13,816  8  0  97.06%  97.97%   -0.91%  \n",
       "2  $106.05  $299.50   5,252   6,008  8  0  87.42%  78.56%    8.86%  \n",
       "3  $116.67  $249.00   9,055  12,816  8  0  70.65%  73.25%   -2.60%  \n",
       "4   $88.10  $197.00   5,111   8,640  8  0  59.16%  70.15%  -10.99%  "
      ]
     },
     "execution_count": 510,
     "metadata": {},
     "output_type": "execute_result"
    }
   ],
   "source": [
    "recent_gross_df.head()"
   ]
  },
  {
   "cell_type": "code",
   "execution_count": 511,
   "metadata": {},
   "outputs": [],
   "source": [
    "recent_gross_df.columns = table_header_lst"
   ]
  },
  {
   "cell_type": "code",
   "execution_count": 512,
   "metadata": {},
   "outputs": [
    {
     "data": {
      "text/html": [
       "<div>\n",
       "<style scoped>\n",
       "    .dataframe tbody tr th:only-of-type {\n",
       "        vertical-align: middle;\n",
       "    }\n",
       "\n",
       "    .dataframe tbody tr th {\n",
       "        vertical-align: top;\n",
       "    }\n",
       "\n",
       "    .dataframe thead th {\n",
       "        text-align: right;\n",
       "    }\n",
       "</style>\n",
       "<table border=\"1\" class=\"dataframe\">\n",
       "  <thead>\n",
       "    <tr style=\"text-align: right;\">\n",
       "      <th></th>\n",
       "      <th>Show</th>\n",
       "      <th>Theater</th>\n",
       "      <th>Gross</th>\n",
       "      <th>Gross (Prev week)</th>\n",
       "      <th>Gross Diff. vs. Prev Week</th>\n",
       "      <th>Avg. Ticket</th>\n",
       "      <th>Top Ticket</th>\n",
       "      <th>Attendance</th>\n",
       "      <th>Capacity</th>\n",
       "      <th>Perf.</th>\n",
       "      <th>Previews</th>\n",
       "      <th>Capacity % (This week)</th>\n",
       "      <th>Capacity % (Last week)</th>\n",
       "      <th>Diff. %</th>\n",
       "    </tr>\n",
       "  </thead>\n",
       "  <tbody>\n",
       "    <tr>\n",
       "      <th>0</th>\n",
       "      <td>A STRANGE LOOP</td>\n",
       "      <td>LYCEUM</td>\n",
       "      <td>$780,492</td>\n",
       "      <td>$854,407</td>\n",
       "      <td>-$73,915</td>\n",
       "      <td>$119.65</td>\n",
       "      <td>$373.00</td>\n",
       "      <td>6,523</td>\n",
       "      <td>7,296</td>\n",
       "      <td>8</td>\n",
       "      <td>0</td>\n",
       "      <td>89.41%</td>\n",
       "      <td>99.14%</td>\n",
       "      <td>-9.73%</td>\n",
       "    </tr>\n",
       "    <tr>\n",
       "      <th>1</th>\n",
       "      <td>ALADDIN</td>\n",
       "      <td>NEW AMSTERDAM</td>\n",
       "      <td>$1,398,903</td>\n",
       "      <td>$1,379,129</td>\n",
       "      <td>$19,774</td>\n",
       "      <td>$104.32</td>\n",
       "      <td>$227.50</td>\n",
       "      <td>13,410</td>\n",
       "      <td>13,816</td>\n",
       "      <td>8</td>\n",
       "      <td>0</td>\n",
       "      <td>97.06%</td>\n",
       "      <td>97.97%</td>\n",
       "      <td>-0.91%</td>\n",
       "    </tr>\n",
       "    <tr>\n",
       "      <th>2</th>\n",
       "      <td>AMERICAN BUFFALO</td>\n",
       "      <td>CIRCLE IN THE SQUARE</td>\n",
       "      <td>$556,976</td>\n",
       "      <td>$424,384</td>\n",
       "      <td>$132,592</td>\n",
       "      <td>$106.05</td>\n",
       "      <td>$299.50</td>\n",
       "      <td>5,252</td>\n",
       "      <td>6,008</td>\n",
       "      <td>8</td>\n",
       "      <td>0</td>\n",
       "      <td>87.42%</td>\n",
       "      <td>78.56%</td>\n",
       "      <td>8.86%</td>\n",
       "    </tr>\n",
       "    <tr>\n",
       "      <th>3</th>\n",
       "      <td>BEETLEJUICE</td>\n",
       "      <td>MARQUIS</td>\n",
       "      <td>$1,056,462</td>\n",
       "      <td>$1,074,541</td>\n",
       "      <td>-$18,078</td>\n",
       "      <td>$116.67</td>\n",
       "      <td>$249.00</td>\n",
       "      <td>9,055</td>\n",
       "      <td>12,816</td>\n",
       "      <td>8</td>\n",
       "      <td>0</td>\n",
       "      <td>70.65%</td>\n",
       "      <td>73.25%</td>\n",
       "      <td>-2.60%</td>\n",
       "    </tr>\n",
       "    <tr>\n",
       "      <th>4</th>\n",
       "      <td>CHICAGO</td>\n",
       "      <td>AMBASSADOR</td>\n",
       "      <td>$450,294</td>\n",
       "      <td>$536,434</td>\n",
       "      <td>-$86,140</td>\n",
       "      <td>$88.10</td>\n",
       "      <td>$197.00</td>\n",
       "      <td>5,111</td>\n",
       "      <td>8,640</td>\n",
       "      <td>8</td>\n",
       "      <td>0</td>\n",
       "      <td>59.16%</td>\n",
       "      <td>70.15%</td>\n",
       "      <td>-10.99%</td>\n",
       "    </tr>\n",
       "  </tbody>\n",
       "</table>\n",
       "</div>"
      ],
      "text/plain": [
       "               Show               Theater       Gross Gross (Prev week)  \\\n",
       "0    A STRANGE LOOP                LYCEUM    $780,492          $854,407   \n",
       "1           ALADDIN         NEW AMSTERDAM  $1,398,903        $1,379,129   \n",
       "2  AMERICAN BUFFALO  CIRCLE IN THE SQUARE    $556,976          $424,384   \n",
       "3       BEETLEJUICE               MARQUIS  $1,056,462        $1,074,541   \n",
       "4           CHICAGO            AMBASSADOR    $450,294          $536,434   \n",
       "\n",
       "  Gross Diff. vs. Prev Week Avg. Ticket Top Ticket Attendance Capacity Perf.  \\\n",
       "0                  -$73,915     $119.65    $373.00      6,523    7,296     8   \n",
       "1                   $19,774     $104.32    $227.50     13,410   13,816     8   \n",
       "2                  $132,592     $106.05    $299.50      5,252    6,008     8   \n",
       "3                  -$18,078     $116.67    $249.00      9,055   12,816     8   \n",
       "4                  -$86,140      $88.10    $197.00      5,111    8,640     8   \n",
       "\n",
       "  Previews Capacity % (This week) Capacity % (Last week)  Diff. %  \n",
       "0        0                 89.41%                 99.14%   -9.73%  \n",
       "1        0                 97.06%                 97.97%   -0.91%  \n",
       "2        0                 87.42%                 78.56%    8.86%  \n",
       "3        0                 70.65%                 73.25%   -2.60%  \n",
       "4        0                 59.16%                 70.15%  -10.99%  "
      ]
     },
     "execution_count": 512,
     "metadata": {},
     "output_type": "execute_result"
    }
   ],
   "source": [
    "recent_gross_df.head()"
   ]
  },
  {
   "cell_type": "code",
   "execution_count": null,
   "metadata": {},
   "outputs": [],
   "source": []
  },
  {
   "cell_type": "code",
   "execution_count": null,
   "metadata": {},
   "outputs": [],
   "source": []
  },
  {
   "cell_type": "code",
   "execution_count": null,
   "metadata": {},
   "outputs": [],
   "source": []
  },
  {
   "cell_type": "code",
   "execution_count": null,
   "metadata": {},
   "outputs": [],
   "source": []
  },
  {
   "cell_type": "code",
   "execution_count": null,
   "metadata": {},
   "outputs": [],
   "source": []
  },
  {
   "cell_type": "code",
   "execution_count": 310,
   "metadata": {},
   "outputs": [
    {
     "data": {
      "text/plain": [
       "'\\n ALADDIN \\n NEW AMSTERDAM \\n $1,379,129 \\n $1,355,330 \\n $23,799 \\n $101.89 $199.50 \\n 13,536 13,816 \\n 8 \\n 97.97% \\n 98.23% \\n 0.26% \\n'"
      ]
     },
     "execution_count": 310,
     "metadata": {},
     "output_type": "execute_result"
    }
   ],
   "source": [
    "row.get_text(separator=' ')"
   ]
  },
  {
   "cell_type": "code",
   "execution_count": 498,
   "metadata": {},
   "outputs": [],
   "source": [
    "row = rows[1]\n",
    "row_data = []\n",
    "for ele in row:\n",
    "    ele_string = str(ele)\n",
    "    if ele.string:\n",
    "        entry = ele.string\n",
    "#         print(ele.string)\n",
    "    else:\n",
    "        entry = ele.get_text(separator=\";\")\n",
    "#         print(ele.get_text(separator=\",\"))\n",
    "    \n",
    "    if \"cell negative\" in ele_string:\n",
    "        entry = \"-\" + entry\n",
    "    if entry == '\\n':\n",
    "        continue\n",
    "#     print(entry)\n",
    "    row_data.append(entry)\n",
    "#     print(len(row_data))"
   ]
  },
  {
   "cell_type": "code",
   "execution_count": 499,
   "metadata": {},
   "outputs": [
    {
     "data": {
      "text/plain": [
       "['ALADDIN;\\n;NEW AMSTERDAM',\n",
       " '$1,379,129',\n",
       " '$1,355,330',\n",
       " '$23,799',\n",
       " '$101.89;$199.50',\n",
       " '13,536;13,816',\n",
       " '8',\n",
       " '97.97%',\n",
       " '98.23%',\n",
       " '-0.26%']"
      ]
     },
     "execution_count": 499,
     "metadata": {},
     "output_type": "execute_result"
    }
   ],
   "source": [
    "row_data"
   ]
  },
  {
   "cell_type": "code",
   "execution_count": 500,
   "metadata": {},
   "outputs": [
    {
     "data": {
      "text/plain": [
       "['ALADDIN',\n",
       " 'NEW AMSTERDAM',\n",
       " '$1,379,129',\n",
       " '$1,355,330',\n",
       " '$23,799',\n",
       " '$101.89',\n",
       " '$199.50',\n",
       " '13,536',\n",
       " '13,816',\n",
       " '8',\n",
       " '97.97%',\n",
       " '98.23%',\n",
       " '-0.26%']"
      ]
     },
     "execution_count": 500,
     "metadata": {},
     "output_type": "execute_result"
    }
   ],
   "source": [
    "row_data = [s.split('\\n') for s in row_data]\n",
    "row_data = list(chain.from_iterable(row_data))\n",
    "row_data = [s.split(';') for s in row_data]\n",
    "row_data = list(chain.from_iterable(row_data))\n",
    "row_data = [s for s in row_data if s != '']\n",
    "row_data"
   ]
  },
  {
   "cell_type": "code",
   "execution_count": 501,
   "metadata": {},
   "outputs": [
    {
     "data": {
      "text/plain": [
       "13"
      ]
     },
     "execution_count": 501,
     "metadata": {},
     "output_type": "execute_result"
    }
   ],
   "source": [
    "len(row_data)"
   ]
  },
  {
   "cell_type": "code",
   "execution_count": 496,
   "metadata": {},
   "outputs": [],
   "source": [
    "row_data.insert(10, 0)"
   ]
  },
  {
   "cell_type": "code",
   "execution_count": 497,
   "metadata": {},
   "outputs": [
    {
     "data": {
      "text/plain": [
       "['ALADDIN',\n",
       " 'NEW AMSTERDAM',\n",
       " '$1,379,129',\n",
       " '$1,355,330',\n",
       " '$23,799',\n",
       " '$101.89',\n",
       " '$199.50',\n",
       " '13,536',\n",
       " '13,816',\n",
       " '8',\n",
       " 0,\n",
       " '97.97%',\n",
       " '98.23%',\n",
       " '-0.26%']"
      ]
     },
     "execution_count": 497,
     "metadata": {},
     "output_type": "execute_result"
    }
   ],
   "source": [
    "row_data"
   ]
  },
  {
   "cell_type": "code",
   "execution_count": 435,
   "metadata": {},
   "outputs": [
    {
     "data": {
      "text/plain": [
       "['ALADDIN',\n",
       " 'NEW',\n",
       " 'AMSTERDAM',\n",
       " '$1,379,129',\n",
       " '$1,355,330',\n",
       " '$23,799',\n",
       " '$101.89',\n",
       " '$199.50',\n",
       " '13,536',\n",
       " '13,816',\n",
       " '8',\n",
       " '97.97%',\n",
       " '98.23%',\n",
       " '-0.26%']"
      ]
     },
     "execution_count": 435,
     "metadata": {},
     "output_type": "execute_result"
    }
   ],
   "source": [
    "from itertools import chain\n",
    "row_data = [s.split(' ') for s in row_data]\n",
    "row_data = list(chain.from_iterable(row_data))\n",
    "row_data = [s for s in row_data if s != '\\n']\n",
    "row_data"
   ]
  },
  {
   "cell_type": "code",
   "execution_count": 382,
   "metadata": {},
   "outputs": [],
   "source": [
    "table_header = soup.find(\"div\",attrs={\"class\":\"table-header\"})"
   ]
  },
  {
   "cell_type": "code",
   "execution_count": 383,
   "metadata": {},
   "outputs": [
    {
     "data": {
      "text/plain": [
       "<div class=\"table-header\">\n",
       "<div class=\"row\">\n",
       "<div class=\"cell\" data-order=\"1\" data-sort=\"name\"><span class=\"sort\"><b>Show</b><b>Theater</b></span></div>\n",
       "<div class=\"cell\" data-sort=\"gross\"><span class=\"sort\"><b>Gross</b><b></b></span></div>\n",
       "<div class=\"cell\" data-sort=\"gross-prev\"><span class=\"sort\"><b>Gross</b><b>Prev week</b></span></div>\n",
       "<div class=\"cell\" data-sort=\"gross-diff-year\"><span class=\"sort\"><b>Gross Diff.</b><b>vs. Prev Week</b></span></div>\n",
       "<div class=\"cell\" data-sort=\"ticket\"><span class=\"sort\"><b>Avg. Ticket</b><b>Top Ticket</b></span></div>\n",
       "<div class=\"cell\" data-sort=\"attendee\"><span class=\"sort\"><b>Attendance</b> <b>Capacity</b></span></div>\n",
       "<div class=\"cell\" data-sort=\"perform\"><span class=\"sort\"><b>Perf.</b> <b>Previews</b></span></div>\n",
       "<div class=\"cell\" data-sort=\"capacity\"><span class=\"sort\"><b>Capacity %</b><b>This week</b></span></div>\n",
       "<div class=\"cell\" data-sort=\"capacity-last\"><span class=\"sort\"><b>Capacity %</b><b>Last week</b></span></div>\n",
       "<div class=\"cell\" data-sort=\"diff-percents\"><span class=\"sort\"><b>Diff. %</b> </span></div>\n",
       "</div>\n",
       "</div>"
      ]
     },
     "execution_count": 383,
     "metadata": {},
     "output_type": "execute_result"
    }
   ],
   "source": [
    "table_header"
   ]
  },
  {
   "cell_type": "code",
   "execution_count": 404,
   "metadata": {},
   "outputs": [
    {
     "data": {
      "text/plain": [
       "[' Show Theater ',\n",
       " ' Gross ',\n",
       " ' Gross Prev week ',\n",
       " ' Gross Diff. vs. Prev Week ',\n",
       " ' Avg. Ticket Top Ticket ',\n",
       " ' Attendance   Capacity ',\n",
       " ' Perf.   Previews ',\n",
       " ' Capacity % This week ',\n",
       " ' Capacity % Last week ',\n",
       " ' Diff. %   ']"
      ]
     },
     "execution_count": 404,
     "metadata": {},
     "output_type": "execute_result"
    }
   ],
   "source": [
    "test = table_header_lst.split('\\n')\n",
    "test = [s.replace(',', ' ') for s in test]\n",
    "test = [s for s in test if (not s.isspace()) and (s != '')]\n",
    "test"
   ]
  },
  {
   "cell_type": "code",
   "execution_count": 407,
   "metadata": {},
   "outputs": [
    {
     "data": {
      "text/plain": [
       "['Show',\n",
       " 'Theater',\n",
       " 'Gross',\n",
       " 'Gross (Prev week)',\n",
       " 'Gross Diff. vs. Prev Week',\n",
       " 'Avg. Ticket',\n",
       " 'Top Ticket',\n",
       " 'Attendance',\n",
       " 'Capacity',\n",
       " 'Perf. Previews',\n",
       " 'Capacity % (This week)',\n",
       " 'Capacity % (Last week)',\n",
       " 'Diff. %']"
      ]
     },
     "execution_count": 407,
     "metadata": {},
     "output_type": "execute_result"
    }
   ],
   "source": [
    "table_header_lst = ['Show', 'Theater', 'Gross', 'Gross (Prev week)', 'Gross Diff. vs. Prev Week', \n",
    "                    'Avg. Ticket', 'Top Ticket', 'Attendance', 'Capacity', 'Perf. Previews', \n",
    "                    'Capacity % (This week)', 'Capacity % (Last week)','Diff. %']\n",
    "table_header_lst"
   ]
  },
  {
   "cell_type": "code",
   "execution_count": 408,
   "metadata": {},
   "outputs": [
    {
     "data": {
      "text/plain": [
       "(13, 13)"
      ]
     },
     "execution_count": 408,
     "metadata": {},
     "output_type": "execute_result"
    }
   ],
   "source": [
    "len(table_header_lst), len(row_data)"
   ]
  },
  {
   "cell_type": "code",
   "execution_count": null,
   "metadata": {},
   "outputs": [],
   "source": []
  }
 ],
 "metadata": {
  "kernelspec": {
   "display_name": "Python 3",
   "language": "python",
   "name": "python3"
  },
  "language_info": {
   "codemirror_mode": {
    "name": "ipython",
    "version": 3
   },
   "file_extension": ".py",
   "mimetype": "text/x-python",
   "name": "python",
   "nbconvert_exporter": "python",
   "pygments_lexer": "ipython3",
   "version": "3.8.5"
  }
 },
 "nbformat": 4,
 "nbformat_minor": 4
}
